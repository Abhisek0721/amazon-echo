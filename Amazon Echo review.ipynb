{
 "cells": [
  {
   "cell_type": "code",
   "execution_count": null,
   "metadata": {
    "colab": {
     "base_uri": "https://localhost:8080/"
    },
    "executionInfo": {
     "elapsed": 3439,
     "status": "ok",
     "timestamp": 1723924900316,
     "user": {
      "displayName": "Monjit Tanti",
      "userId": "06489010989685263729"
     },
     "user_tz": -330
    },
    "id": "HWwaIbwqpU3i",
    "outputId": "b608f867-3b09-4b4e-fbe1-5c76607b312d"
   },
   "outputs": [
    {
     "ename": "",
     "evalue": "",
     "output_type": "error",
     "traceback": [
      "\u001b[1;31mRunning cells with 'Python 3.10.11' requires the ipykernel package.\n",
      "\u001b[1;31mRun the following command to install 'ipykernel' into the Python environment. \n",
      "\u001b[1;31mCommand: 'c:/Users/Abhis/AppData/Local/Microsoft/WindowsApps/python3.10.exe -m pip install ipykernel -U --user --force-reinstall'"
     ]
    }
   ],
   "source": [
    "import pandas as pd\n",
    "import numpy as np\n",
    "!pip install nltk\n",
    "from nltk.stem import PorterStemmer\n",
    "import re\n",
    "import nltk\n",
    "nltk.download('stopwords')\n",
    "from nltk.corpus import stopwords\n",
    "STOPWORDS = set(stopwords.words('english'))\n",
    "from sklearn.feature_extraction.text import CountVectorizer\n",
    "from sklearn.metrics import confusion_matrix\n",
    "from sklearn.metrics import ConfusionMatrixDisplay\n",
    "import matplotlib.pyplot as plt\n",
    "from sklearn.ensemble import RandomForestClassifier\n",
    "from sklearn.preprocessing import MinMaxScaler\n"
   ]
  },
  {
   "cell_type": "code",
   "execution_count": null,
   "metadata": {
    "colab": {
     "base_uri": "https://localhost:8080/"
    },
    "executionInfo": {
     "elapsed": 41,
     "status": "ok",
     "timestamp": 1723924900317,
     "user": {
      "displayName": "Monjit Tanti",
      "userId": "06489010989685263729"
     },
     "user_tz": -330
    },
    "id": "o4_VFqE6ppq2",
    "outputId": "11aadbdf-9dde-4cc7-e0cd-a893e4fc71ea"
   },
   "outputs": [],
   "source": [
    "data = pd.read_csv('./content/amazon_alexa.tsv',delimiter='\\t',quoting=3)\n",
    "print(f'Data shape = {data.shape}')"
   ]
  },
  {
   "cell_type": "code",
   "execution_count": null,
   "metadata": {
    "colab": {
     "base_uri": "https://localhost:8080/",
     "height": 293
    },
    "executionInfo": {
     "elapsed": 38,
     "status": "ok",
     "timestamp": 1723924900317,
     "user": {
      "displayName": "Monjit Tanti",
      "userId": "06489010989685263729"
     },
     "user_tz": -330
    },
    "id": "IMYkTOpfqRWU",
    "outputId": "56507448-4b20-4788-ff85-89d57453ab1b"
   },
   "outputs": [],
   "source": [
    "data.head()"
   ]
  },
  {
   "cell_type": "code",
   "execution_count": null,
   "metadata": {
    "colab": {
     "base_uri": "https://localhost:8080/"
    },
    "executionInfo": {
     "elapsed": 37,
     "status": "ok",
     "timestamp": 1723924900317,
     "user": {
      "displayName": "Monjit Tanti",
      "userId": "06489010989685263729"
     },
     "user_tz": -330
    },
    "id": "bDGq17U4qV9X",
    "outputId": "4d9b4615-4d47-4a6c-e2d2-a9848962a4d0"
   },
   "outputs": [],
   "source": [
    "print(f'Features Name {data.columns.values}')"
   ]
  },
  {
   "cell_type": "code",
   "execution_count": null,
   "metadata": {
    "colab": {
     "base_uri": "https://localhost:8080/",
     "height": 241
    },
    "executionInfo": {
     "elapsed": 35,
     "status": "ok",
     "timestamp": 1723924900317,
     "user": {
      "displayName": "Monjit Tanti",
      "userId": "06489010989685263729"
     },
     "user_tz": -330
    },
    "id": "6aQDubY1q-IO",
    "outputId": "d8959e4a-18b7-46ac-e9df-db5baeaddc95"
   },
   "outputs": [],
   "source": [
    "data.isnull().sum()"
   ]
  },
  {
   "cell_type": "code",
   "execution_count": null,
   "metadata": {
    "colab": {
     "base_uri": "https://localhost:8080/",
     "height": 81
    },
    "executionInfo": {
     "elapsed": 35,
     "status": "ok",
     "timestamp": 1723924900317,
     "user": {
      "displayName": "Monjit Tanti",
      "userId": "06489010989685263729"
     },
     "user_tz": -330
    },
    "id": "1viFULJzrKVv",
    "outputId": "cbfab118-6cc5-4ba3-c537-b935a8711201"
   },
   "outputs": [],
   "source": [
    "data[data['verified_reviews'].isna()==True]"
   ]
  },
  {
   "cell_type": "code",
   "execution_count": null,
   "metadata": {
    "id": "tXxX29wwrs7h"
   },
   "outputs": [],
   "source": [
    "data.dropna(inplace=True)"
   ]
  },
  {
   "cell_type": "code",
   "execution_count": null,
   "metadata": {
    "colab": {
     "base_uri": "https://localhost:8080/"
    },
    "executionInfo": {
     "elapsed": 34,
     "status": "ok",
     "timestamp": 1723924900317,
     "user": {
      "displayName": "Monjit Tanti",
      "userId": "06489010989685263729"
     },
     "user_tz": -330
    },
    "id": "A9aQ7bORsAVu",
    "outputId": "0200e480-5316-4056-9abf-56e4f73ca3af"
   },
   "outputs": [],
   "source": [
    "print(f'data shape after droping : {data.shape}')"
   ]
  },
  {
   "cell_type": "code",
   "execution_count": null,
   "metadata": {
    "id": "fjAmEWltsOGn"
   },
   "outputs": [],
   "source": [
    "data['Length'] = data['verified_reviews'].apply(len)"
   ]
  },
  {
   "cell_type": "code",
   "execution_count": null,
   "metadata": {
    "colab": {
     "base_uri": "https://localhost:8080/",
     "height": 293
    },
    "executionInfo": {
     "elapsed": 32,
     "status": "ok",
     "timestamp": 1723924900318,
     "user": {
      "displayName": "Monjit Tanti",
      "userId": "06489010989685263729"
     },
     "user_tz": -330
    },
    "id": "DJ9Zh-pNs5kH",
    "outputId": "cb2f460d-e420-4ae0-d713-f72920623b91"
   },
   "outputs": [],
   "source": [
    "data.head()"
   ]
  },
  {
   "cell_type": "code",
   "execution_count": null,
   "metadata": {
    "colab": {
     "base_uri": "https://localhost:8080/"
    },
    "executionInfo": {
     "elapsed": 30,
     "status": "ok",
     "timestamp": 1723924900318,
     "user": {
      "displayName": "Monjit Tanti",
      "userId": "06489010989685263729"
     },
     "user_tz": -330
    },
    "id": "tamWncIYs9zh",
    "outputId": "4af27ce1-f7ec-4d3a-8ef3-d6a6a70395ec"
   },
   "outputs": [],
   "source": [
    "len(data.iloc[10,3])"
   ]
  },
  {
   "cell_type": "code",
   "execution_count": null,
   "metadata": {
    "id": "aU96XxZhtqqc"
   },
   "outputs": [],
   "source": [
    "corpus = []\n",
    "stemmer = PorterStemmer()\n",
    "for i in range(0,data.shape[0]):\n",
    "  review = re.sub('[^a-zZ-Z]', ' ',data.iloc[i]['verified_reviews'])\n",
    "  review = review.lower().split()\n",
    "  review = [stemmer.stem(word)for word in review if not word in STOPWORDS]\n",
    "  corpus.append(' '.join(review))"
   ]
  },
  {
   "cell_type": "code",
   "execution_count": null,
   "metadata": {
    "id": "GHBWLXby6_w5"
   },
   "outputs": [],
   "source": [
    "cv = CountVectorizer(max_features= 2500)\n",
    "X =  cv.fit_transform(corpus).toarray()\n",
    "Y = data['feedback'].values"
   ]
  },
  {
   "cell_type": "code",
   "execution_count": null,
   "metadata": {
    "colab": {
     "base_uri": "https://localhost:8080/"
    },
    "executionInfo": {
     "elapsed": 441,
     "status": "ok",
     "timestamp": 1723925275439,
     "user": {
      "displayName": "Monjit Tanti",
      "userId": "06489010989685263729"
     },
     "user_tz": -330
    },
    "id": "-PS_e3cl7VSV",
    "outputId": "739acd4e-b24f-48a7-88e9-209e018c5abf"
   },
   "outputs": [],
   "source": [
    "print(f\"X shape : {X.shape}\")\n",
    "print(f\"Y shape : {Y.shape}\")"
   ]
  },
  {
   "cell_type": "code",
   "execution_count": null,
   "metadata": {
    "id": "TV1mxQFi9B7o"
   },
   "outputs": [],
   "source": [
    "from sklearn.model_selection import train_test_split\n"
   ]
  },
  {
   "cell_type": "code",
   "execution_count": null,
   "metadata": {
    "id": "Ok33szvC9baA"
   },
   "outputs": [],
   "source": [
    "X_train, X_test,Y_train,Y_test = train_test_split(X,Y,test_size = 0.3,random_state = 15)"
   ]
  },
  {
   "cell_type": "code",
   "execution_count": null,
   "metadata": {
    "colab": {
     "base_uri": "https://localhost:8080/"
    },
    "executionInfo": {
     "elapsed": 395,
     "status": "ok",
     "timestamp": 1723925708329,
     "user": {
      "displayName": "Monjit Tanti",
      "userId": "06489010989685263729"
     },
     "user_tz": -330
    },
    "id": "U7fVz_Au98Pu",
    "outputId": "56023c68-9fef-4dc3-f0e0-442311b4f7f3"
   },
   "outputs": [],
   "source": [
    "print(f\"X_train :{X_train.shape}\")\n",
    "print(f\"X_test :{X_test.shape}\")\n",
    "print(f\"Y_train :{Y_train.shape}\")\n",
    "print(f\"Y_test :{Y_test.shape}\")"
   ]
  },
  {
   "cell_type": "code",
   "execution_count": null,
   "metadata": {
    "colab": {
     "base_uri": "https://localhost:8080/"
    },
    "executionInfo": {
     "elapsed": 465,
     "status": "ok",
     "timestamp": 1723925824227,
     "user": {
      "displayName": "Monjit Tanti",
      "userId": "06489010989685263729"
     },
     "user_tz": -330
    },
    "id": "PUOuxJFS-djJ",
    "outputId": "ed8a5309-6f7d-4901-8538-48f5a989727b"
   },
   "outputs": [],
   "source": [
    "print(f\"X_train max value : {X_train.max()}\")\n",
    "print(f\"X_test max value : {X_test.max()}\")"
   ]
  },
  {
   "cell_type": "code",
   "execution_count": null,
   "metadata": {
    "id": "u7TjlAnN_H3n"
   },
   "outputs": [],
   "source": [
    "\n",
    "scaler = MinMaxScaler()"
   ]
  },
  {
   "cell_type": "code",
   "execution_count": null,
   "metadata": {
    "id": "Qt6IgsuQ_Vhr"
   },
   "outputs": [],
   "source": [
    "X_train_scl = scaler.fit_transform(X_train)\n",
    "X_test_scl = scaler.fit_transform(X_test)"
   ]
  },
  {
   "cell_type": "code",
   "execution_count": null,
   "metadata": {
    "id": "LHzfY_BN_x1a"
   },
   "outputs": [],
   "source": [
    "\n"
   ]
  },
  {
   "cell_type": "code",
   "execution_count": null,
   "metadata": {
    "colab": {
     "base_uri": "https://localhost:8080/",
     "height": 74
    },
    "executionInfo": {
     "elapsed": 4554,
     "status": "ok",
     "timestamp": 1723926177017,
     "user": {
      "displayName": "Monjit Tanti",
      "userId": "06489010989685263729"
     },
     "user_tz": -330
    },
    "id": "OOAQtPRTAFKP",
    "outputId": "0f0c123b-be95-40e4-9f22-e09dcf2501dc"
   },
   "outputs": [],
   "source": [
    "model_rf = RandomForestClassifier()\n",
    "model_rf.fit(X_train_scl,Y_train)"
   ]
  },
  {
   "cell_type": "code",
   "execution_count": null,
   "metadata": {
    "colab": {
     "base_uri": "https://localhost:8080/"
    },
    "executionInfo": {
     "elapsed": 1102,
     "status": "ok",
     "timestamp": 1723926337380,
     "user": {
      "displayName": "Monjit Tanti",
      "userId": "06489010989685263729"
     },
     "user_tz": -330
    },
    "id": "fFNizoAnAbYF",
    "outputId": "f5c42bf8-98f4-4cc4-c06a-8820feeebf0b"
   },
   "outputs": [],
   "source": [
    "print('Training Accuracy :',model_rf.score(X_train_scl,Y_train))\n",
    "print('Testing Accuracy :',model_rf.score(X_test_scl,Y_test))"
   ]
  },
  {
   "cell_type": "code",
   "execution_count": null,
   "metadata": {
    "id": "ZYCy7jvwBT4i"
   },
   "outputs": [],
   "source": [
    "Y_preds = model_rf.predict(X_test_scl)"
   ]
  },
  {
   "cell_type": "code",
   "execution_count": null,
   "metadata": {
    "id": "2u4F03v6A_tm"
   },
   "outputs": [],
   "source": [
    "\n",
    "cn = confusion_matrix(Y_test,Y_preds)"
   ]
  },
  {
   "cell_type": "code",
   "execution_count": null,
   "metadata": {
    "colab": {
     "base_uri": "https://localhost:8080/",
     "height": 449
    },
    "executionInfo": {
     "elapsed": 728,
     "status": "ok",
     "timestamp": 1723927094458,
     "user": {
      "displayName": "Monjit Tanti",
      "userId": "06489010989685263729"
     },
     "user_tz": -330
    },
    "id": "q4MXaINBBwd6",
    "outputId": "4277e7a3-52d6-4c34-fcab-162719c756b3"
   },
   "outputs": [],
   "source": [
    "cn_display = ConfusionMatrixDisplay(confusion_matrix=cn, display_labels=model_rf.classes_)\n",
    "cn_display.plot()\n",
    "plt.show()"
   ]
  },
  {
   "cell_type": "code",
   "execution_count": null,
   "metadata": {
    "id": "APZPzB5wCp23"
   },
   "outputs": [],
   "source": []
  }
 ],
 "metadata": {
  "colab": {
   "authorship_tag": "ABX9TyNsHNLzFe9IEjxJLG+iBv6s",
   "provenance": [
    {
     "file_id": "13zhrR8mERz9kX3mFTYmQ76Ne5ZA-KqAV",
     "timestamp": 1723923251658
    }
   ]
  },
  "kernelspec": {
   "display_name": "Python 3",
   "name": "python3"
  },
  "language_info": {
   "name": "python",
   "version": "3.10.11"
  }
 },
 "nbformat": 4,
 "nbformat_minor": 0
}
